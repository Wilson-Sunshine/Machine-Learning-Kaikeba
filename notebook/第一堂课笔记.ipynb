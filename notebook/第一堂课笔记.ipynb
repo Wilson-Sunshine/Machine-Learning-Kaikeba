{
 "cells": [
  {
   "cell_type": "markdown",
   "metadata": {},
   "source": [
    "# 人工智能\n",
    "\n",
    "机器完成人类的感知、学习、推理和行动,并从中获取知识\n",
    "\n",
    "凡是使用机器代替人实现认知、分析、决策等功能,都可以认为使用了人工智能技术\n",
    "\n",
    "达特茅斯会议提出人工智能 麦卡锡、明斯基、艾伦.纽厄为、克劳德.香农、西蒙\n",
    "\n",
    "机器人三定律\n",
    "\n",
    "逻辑理论机 - 卡内基 - 梅隆大学: 人类证明数学定理也有类似的思维规律 \n",
    "\n",
    "深度学习: Hinton, LeCun, Bengio三巨头\n",
    "\n",
    "弱人工智能:弱人工智能是擅长于单个方面的人工智能\n",
    "\n",
    "强人工智能:人类级别的人工智能"
   ]
  },
  {
   "cell_type": "markdown",
   "metadata": {},
   "source": [
    "人工智能 > 机器学习 > 深度学习\n"
   ]
  },
  {
   "cell_type": "markdown",
   "metadata": {},
   "source": [
    "指数函数\n",
    "\n",
    "幂函数\n",
    "\n",
    "负对数函数\n",
    "\n",
    "负熵函数\n",
    "\n",
    "范数函数\n",
    "\n",
    "拉格朗日函数\n",
    "\n"
   ]
  },
  {
   "cell_type": "markdown",
   "metadata": {},
   "source": [
    "统计\n",
    "\n",
    "统而记之\n",
    "\n",
    "统:观察数据\n",
    "\n",
    "计:分析数据\n",
    "\n",
    "是搜集和分析数据的科学与艺术\n",
    "\n"
   ]
  },
  {
   "cell_type": "markdown",
   "metadata": {},
   "source": [
    "均值:用于度量样本平均水平的变量,数据对称时或者趋势单一\n",
    "\n",
    "中位数:由于存在异常值发生偏移时\n",
    "\n",
    "众数:数据可以分为多个组时\n",
    "\n",
    "\n",
    "\n"
   ]
  },
  {
   "cell_type": "markdown",
   "metadata": {},
   "source": [
    "方差,标准偏差  \n",
    "\n",
    "方差:用于度量数据分散性的一种方法\n",
    "    \n",
    "协方差:用于衡量两个变量的总体误差(两个变量变化一致性程度的变量)\n",
    "\n",
    "相关系数\n"
   ]
  },
  {
   "cell_type": "markdown",
   "metadata": {},
   "source": [
    "  标准化和归一化\n",
    "  \n",
    "  二项分布  退化为单次是(1重伯努利分布)\n",
    "  \n",
    "  正态分布\n",
    "  \n",
    "  中心极限定理\n",
    "  \n",
    " 标量、向量、矩阵和张量 \n",
    "  \n",
    "  标量:一个标量就是一个单独的数\n",
    "  \n",
    "  向量:一个向量就是一列数.有序排列\n",
    "  \n",
    "  矩阵:具有相同特征和纬度的对象的集合,表现为一张二维数据表\n",
    "  \n",
    "  张量:一个数组中的元素分布在若干维坐标的规则网络中,称其为张量\n",
    "  \n",
    "  相似度:cos\n",
    "  \n",
    "  \n",
    "  "
   ]
  },
  {
   "cell_type": "markdown",
   "metadata": {},
   "source": [
    "线性有关 线性无关\n",
    "\n",
    "线性空间\n",
    "零空间\n",
    "\n",
    "列空间\n",
    "\n",
    "行空间\n",
    "\n",
    "左零空间\n",
    "\n"
   ]
  },
  {
   "cell_type": "markdown",
   "metadata": {},
   "source": [
    "最小二乘法 既 误差的平方 loss function"
   ]
  },
  {
   "cell_type": "markdown",
   "metadata": {},
   "source": [
    " 特征值和特征向量\n",
    "    \n",
    "特征值的大小代表了矩阵正交化之后所对应特征向量对于整个矩阵的贡献程度\n",
    "\n",
    "特征向量就是旋转的新坐标体系\n",
    "\n"
   ]
  },
  {
   "cell_type": "markdown",
   "metadata": {},
   "source": [
    "SVD分解\n",
    "\n",
    "矩阵微积分\n"
   ]
  }
 ],
 "metadata": {
  "kernelspec": {
   "display_name": "Python 3",
   "language": "python",
   "name": "python3"
  },
  "language_info": {
   "codemirror_mode": {
    "name": "ipython",
    "version": 3
   },
   "file_extension": ".py",
   "mimetype": "text/x-python",
   "name": "python",
   "nbconvert_exporter": "python",
   "pygments_lexer": "ipython3",
   "version": "3.6.8"
  }
 },
 "nbformat": 4,
 "nbformat_minor": 2
}
