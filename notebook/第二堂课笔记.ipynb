{
 "cells": [
  {
   "cell_type": "markdown",
   "metadata": {},
   "source": [
    "什么是机器学习\n",
    "\n",
    "机器学习:从数据中获得决策(预测)函数使得机器可以根据数据进行自动学习,通过算法使得机器从大量历史数据中学习规律从而对新的样本做决策."
   ]
  },
  {
   "cell_type": "markdown",
   "metadata": {},
   "source": [
    "欠拟合:模型不能在训练集上获得足够小的误差(训练误差太大)\n",
    "\n",
    "过拟合:训练误差和泛化误差的差距太大\n",
    "\n",
    "泛化误差:可以衡量一个机器学习模型是否可以很好地泛化到未知数据.机器学习的目标是减小泛化错误\n",
    "\n",
    "泛化误差是一般表现为一个模型在训练集和测试集上错误率的\n",
    "\n"
   ]
  },
  {
   "cell_type": "markdown",
   "metadata": {},
   "source": [
    "机器学习分类: 回归、分类、据类、降为"
   ]
  },
  {
   "cell_type": "markdown",
   "metadata": {},
   "source": [
    "高偏差 对应 欠拟合\n",
    "\n",
    "高方差 对应 过拟合"
   ]
  },
  {
   "cell_type": "markdown",
   "metadata": {},
   "source": [
    "模型的容量 是指其拟合各种函数的能力(可以表示多少种曲线)"
   ]
  },
  {
   "cell_type": "markdown",
   "metadata": {},
   "source": [
    "多次进行· 采样建模\n",
    "\n",
    "模型的容量是指其拟合各种函数的能力(可以表示多少种曲线).容量低的模型可能很难拟合训练集"
   ]
  },
  {
   "cell_type": "markdown",
   "metadata": {},
   "source": [
    "模型选择方法:确定模型参数\n",
    "\n",
    "hold out \n",
    "\n",
    "cross validation\n",
    "都是交叉验证的方法  \n",
    "bootstrap\n",
    "\n",
    "模型评估方法\n",
    "\n",
    "confusion matrix\n",
    "\n",
    "roc曲线 与auc\n",
    "\n",
    "lift提升 和 gain增益"
   ]
  },
  {
   "cell_type": "markdown",
   "metadata": {},
   "source": [
    "调节超参数\n",
    "\n",
    "超参数:机器学习模型里面的框架参数,如据类个数,正则化系数,knn中的k的选取,一般人工手动调节\n",
    "\n",
    "学习参数:由数据学习到的权重,不需要手动调节,由数据决定"
   ]
  },
  {
   "cell_type": "markdown",
   "metadata": {},
   "source": [
    "测试集的作用:参与监督过程和调参指导"
   ]
  },
  {
   "cell_type": "code",
   "execution_count": null,
   "metadata": {},
   "outputs": [],
   "source": []
  }
 ],
 "metadata": {
  "kernelspec": {
   "display_name": "Python 3",
   "language": "python",
   "name": "python3"
  },
  "language_info": {
   "codemirror_mode": {
    "name": "ipython",
    "version": 3
   },
   "file_extension": ".py",
   "mimetype": "text/x-python",
   "name": "python",
   "nbconvert_exporter": "python",
   "pygments_lexer": "ipython3",
   "version": "3.6.8"
  }
 },
 "nbformat": 4,
 "nbformat_minor": 2
}
