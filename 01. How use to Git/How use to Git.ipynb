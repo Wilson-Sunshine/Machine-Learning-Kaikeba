{
 "cells": [
  {
   "cell_type": "markdown",
   "metadata": {
    "toc": true
   },
   "source": [
    "<h1>Table of Contents<span class=\"tocSkip\"></span></h1>\n",
    "<div class=\"toc\"><ul class=\"toc-item\"><li><span><a href=\"#Git-使用方法\" data-toc-modified-id=\"Git-使用方法-1\"><span class=\"toc-item-num\">1&nbsp;&nbsp;</span>Git 使用方法</a></span><ul class=\"toc-item\"><li><span><a href=\"#一.-版本控制系统信息\" data-toc-modified-id=\"一.-版本控制系统信息-1.1\"><span class=\"toc-item-num\">1.1&nbsp;&nbsp;</span>一. 版本控制系统信息</a></span></li></ul></li><li><span><a href=\"#二.工作流程\" data-toc-modified-id=\"二.工作流程-2\"><span class=\"toc-item-num\">2&nbsp;&nbsp;</span>二.工作流程</a></span></li><li><span><a href=\"#三.创建Git仓库\" data-toc-modified-id=\"三.创建Git仓库-3\"><span class=\"toc-item-num\">3&nbsp;&nbsp;</span>三.创建Git仓库</a></span><ul class=\"toc-item\"><li><ul class=\"toc-item\"><li><span><a href=\"#git-init-#可以在计算机上从头创建全新仓库\" data-toc-modified-id=\"git-init-#可以在计算机上从头创建全新仓库-3.0.1\"><span class=\"toc-item-num\">3.0.1&nbsp;&nbsp;</span>git init #可以在计算机上从头创建全新仓库</a></span></li><li><span><a href=\"#git-clone-#可以将一个现有仓库从其他地方Copy到本地计算机上\" data-toc-modified-id=\"git-clone-#可以将一个现有仓库从其他地方Copy到本地计算机上-3.0.2\"><span class=\"toc-item-num\">3.0.2&nbsp;&nbsp;</span>git clone #可以将一个现有仓库从其他地方Copy到本地计算机上</a></span></li><li><span><a href=\"#git-status-#-查看仓库状态\" data-toc-modified-id=\"git-status-#-查看仓库状态-3.0.3\"><span class=\"toc-item-num\">3.0.3&nbsp;&nbsp;</span>git status # 查看仓库状态</a></span></li></ul></li><li><span><a href=\"#红星：Linux-补充知识点\" data-toc-modified-id=\"红星：Linux-补充知识点-3.1\"><span class=\"toc-item-num\">3.1&nbsp;&nbsp;</span>红星：Linux 补充知识点</a></span><ul class=\"toc-item\"><li><span><a href=\"#3.1-git-init-命令的作用\" data-toc-modified-id=\"3.1-git-init-命令的作用-3.1.1\"><span class=\"toc-item-num\">3.1.1&nbsp;&nbsp;</span>3.1 git init 命令的作用</a></span></li><li><span><a href=\"#3.2-git-clone-命令的作用\" data-toc-modified-id=\"3.2-git-clone-命令的作用-3.1.2\"><span class=\"toc-item-num\">3.1.2&nbsp;&nbsp;</span>3.2 git clone 命令的作用</a></span></li><li><span><a href=\"#3.3-git-status-命令的作用\" data-toc-modified-id=\"3.3-git-status-命令的作用-3.1.3\"><span class=\"toc-item-num\">3.1.3&nbsp;&nbsp;</span>3.3 git status 命令的作用</a></span></li><li><span><a href=\"#注意：克隆项目后，使用命令行转到项目的目录下，需要-git-status--执行测试下当前状态\" data-toc-modified-id=\"注意：克隆项目后，使用命令行转到项目的目录下，需要-git-status--执行测试下当前状态-3.1.4\"><span class=\"toc-item-num\">3.1.4&nbsp;&nbsp;</span>注意：克隆项目后，使用命令行转到项目的目录下，需要 git status  执行测试下当前状态</a></span></li></ul></li></ul></li><li><span><a href=\"#四.查看仓库的历史记录\" data-toc-modified-id=\"四.查看仓库的历史记录-4\"><span class=\"toc-item-num\">4&nbsp;&nbsp;</span>四.查看仓库的历史记录</a></span><ul class=\"toc-item\"><li><ul class=\"toc-item\"><li><span><a href=\"#git-log--#可以显示有关现有提交的信息\" data-toc-modified-id=\"git-log--#可以显示有关现有提交的信息-4.0.1\"><span class=\"toc-item-num\">4.0.1&nbsp;&nbsp;</span>git log  #可以显示有关现有提交的信息</a></span></li><li><span><a href=\"#git-show--#可以显示有关给定提交的信息,需要提交SHA\" data-toc-modified-id=\"git-show--#可以显示有关给定提交的信息,需要提交SHA-4.0.2\"><span class=\"toc-item-num\">4.0.2&nbsp;&nbsp;</span>git show  #可以显示有关给定提交的信息,需要提交SHA</a></span></li><li><span><a href=\"#4.1.1-git-log-命令的作用\" data-toc-modified-id=\"4.1.1-git-log-命令的作用-4.0.3\"><span class=\"toc-item-num\">4.0.3&nbsp;&nbsp;</span>4.1.1 git log 命令的作用</a></span></li><li><span><a href=\"#4.1.2-git-log---oneline-命令的作用\" data-toc-modified-id=\"4.1.2-git-log---oneline-命令的作用-4.0.4\"><span class=\"toc-item-num\">4.0.4&nbsp;&nbsp;</span>4.1.2 git log --oneline 命令的作用</a></span></li><li><span><a href=\"#4.1.3-git-log---stat-命令的作用\" data-toc-modified-id=\"4.1.3-git-log---stat-命令的作用-4.0.5\"><span class=\"toc-item-num\">4.0.5&nbsp;&nbsp;</span>4.1.3 git log --stat 命令的作用</a></span></li><li><span><a href=\"#4.1.4-git-log--p-命令的作用\" data-toc-modified-id=\"4.1.4-git-log--p-命令的作用-4.0.6\"><span class=\"toc-item-num\">4.0.6&nbsp;&nbsp;</span>4.1.4 git log -p 命令的作用</a></span></li><li><span><a href=\"#4.2-git-show-命令的作用\" data-toc-modified-id=\"4.2-git-show-命令的作用-4.0.7\"><span class=\"toc-item-num\">4.0.7&nbsp;&nbsp;</span>4.2 git show 命令的作用</a></span></li></ul></li></ul></li><li><span><a href=\"#五.向仓库中添加commit\" data-toc-modified-id=\"五.向仓库中添加commit-5\"><span class=\"toc-item-num\">5&nbsp;&nbsp;</span>五.向仓库中添加commit</a></span><ul class=\"toc-item\"><li><ul class=\"toc-item\"><li><span><a href=\"#git-add-#将文件从工作目录添加到暂存区中\" data-toc-modified-id=\"git-add-#将文件从工作目录添加到暂存区中-5.0.1\"><span class=\"toc-item-num\">5.0.1&nbsp;&nbsp;</span>git add #将文件从工作目录添加到暂存区中</a></span></li><li><span><a href=\"#git-commit-#将文件从暂存区中取出,并保存在仓库去。实际将要提交的地方\" data-toc-modified-id=\"git-commit-#将文件从暂存区中取出,并保存在仓库去。实际将要提交的地方-5.0.2\"><span class=\"toc-item-num\">5.0.2&nbsp;&nbsp;</span>git commit #将文件从暂存区中取出,并保存在仓库去。实际将要提交的地方</a></span></li><li><span><a href=\"#git-diff-#显示文件两个版本之间的差异\" data-toc-modified-id=\"git-diff-#显示文件两个版本之间的差异-5.0.3\"><span class=\"toc-item-num\">5.0.3&nbsp;&nbsp;</span>git diff #显示文件两个版本之间的差异</a></span></li><li><span><a href=\"#5.1-git-add-文件名-命令作用\" data-toc-modified-id=\"5.1-git-add-文件名-命令作用-5.0.4\"><span class=\"toc-item-num\">5.0.4&nbsp;&nbsp;</span>5.1 git add 文件名 命令作用</a></span></li></ul></li></ul></li></ul></div>"
   ]
  },
  {
   "cell_type": "markdown",
   "metadata": {},
   "source": [
    "# Git 使用方法"
   ]
  },
  {
   "cell_type": "markdown",
   "metadata": {},
   "source": [
    "## 一. 版本控制系统信息"
   ]
  },
  {
   "cell_type": "markdown",
   "metadata": {},
   "source": [
    "三大最热门的版本控制系统  \n",
    "\n",
    "    Git \n",
    "    Subversion \n",
    "    Mercurial"
   ]
  },
  {
   "cell_type": "markdown",
   "metadata": {},
   "source": [
    "版本控制系统模型包括两大主要类型:\n",
    "\n",
    "    集中式模型 - 所有用户都连到一个中央的主仓库 (master repository)\n",
    "    \n",
    "    分布式模型 - 每个用户都在自己的计算机上拥有完整的仓库"
   ]
  },
  {
   "cell_type": "markdown",
   "metadata": {},
   "source": [
    "# 二.工作流程\n",
    "\n",
    "工作区 --> 暂存区 --> 仓库 \n",
    "\n",
    "暂存区中其中有一文件做更新,所有文件都将被上传到仓库中,且上传最新的文件(new version)\n"
   ]
  },
  {
   "cell_type": "markdown",
   "metadata": {},
   "source": [
    "# 三.创建Git仓库\n",
    "\n",
    "### git init #可以在计算机上从头创建全新仓库\n",
    "\n",
    "### git clone #可以将一个现有仓库从其他地方Copy到本地计算机上\n",
    "\n",
    "### git status # 查看仓库状态\n",
    "\n"
   ]
  },
  {
   "cell_type": "markdown",
   "metadata": {},
   "source": [
    "## 红星：Linux 补充知识点\n",
    "\n",
    "ls - 用来列出文件和目录\n",
    "\n",
    "mkdir - 用来新建目录  |  mkdir -p 文件名\n",
    "\n",
    "cd - 用来更改目录\n",
    "\n",
    "rm - 用来删除文件和目录\n",
    "\n",
    "mv - 重命名"
   ]
  },
  {
   "cell_type": "markdown",
   "metadata": {},
   "source": [
    "### 3.1 git init 命令的作用\n",
    "\n",
    "运行 git init 命令会初始化 Git跟踪所有内容会用到的所有必要文件很目录。所有这些文件度存储叫做 .git (隐藏文件中)的目录下"
   ]
  },
  {
   "cell_type": "markdown",
   "metadata": {},
   "source": [
    "### 3.2 git clone 命令的作用\n",
    "\n",
    "用于创建一个与现有仓库完全相同的副本\n",
    "\n",
    "会获取现有仓库的路径\n",
    "\n",
    "默认地将创建一个与被克隆名称相同的目录\n",
    "\n",
    "可以提供第二个参数，作为该目录的名称\n",
    "\n",
    "将在现有工作目录下创建一个新的仓库"
   ]
  },
  {
   "cell_type": "markdown",
   "metadata": {},
   "source": [
    "### 3.3 git status 命令的作用\n",
    "\n",
    "显示很多信息，具体取决于你的文件状态、工作目录和仓库\n",
    "\n",
    "命令将显示仓库的当前状态\n",
    "\n",
    "告诉我们已在工作目录中被创建但Git尚未开始跟踪的新文件\n",
    "\n",
    "Git 正在跟踪的已修改文件\n",
    "\n",
    "以及我们将在这门课程的后续阶段学习的很多其他信息\n",
    "\n",
    "### 注意：克隆项目后，使用命令行转到项目的目录下，需要 git status  执行测试下当前状态"
   ]
  },
  {
   "cell_type": "markdown",
   "metadata": {},
   "source": [
    "# 四.查看仓库的历史记录\n",
    "\n",
    "### git log  #可以显示有关现有提交的信息\n",
    "\n",
    "### git show  #可以显示有关给定提交的信息,需要提交SHA"
   ]
  },
  {
   "cell_type": "markdown",
   "metadata": {},
   "source": [
    "### 4.1.1 git log 命令的作用\n",
    "\n",
    "用于显示仓库中所有commit的信息\n",
    "\n",
    "默认情况下，该命令会显示仓库中每个commit的: SHA、作者、日期、消息"
   ]
  },
  {
   "cell_type": "markdown",
   "metadata": {},
   "source": [
    "### 4.1.2 git log --oneline 命令的作用\n",
    "\n",
    "--oneline选项用于更改git log 显示信息的方式\n",
    "\n",
    "每行显示一个commit\n",
    "\n",
    "显示commit的 SHA 的前7个字符\n",
    "\n",
    "显示commit的消息"
   ]
  },
  {
   "cell_type": "markdown",
   "metadata": {},
   "source": [
    "### 4.1.3 git log --stat 命令的作用 \n",
    "--stat 选项可以用来显示commit 中更改的文件以及添加或删除的行数（stat 是‘统计信息statistics’的简称）\n",
    "\n",
    "显示被修改的文件\n",
    "\n",
    "显示添加/删除的行数\n",
    "\n",
    "显示一个摘要，其中包含修改/删除的总文件数和总行数\n"
   ]
  },
  {
   "cell_type": "markdown",
   "metadata": {},
   "source": [
    "### 4.1.4 git log -p 命令的作用\n",
    "\n",
    "具有一个可用来显示对文件作出实际更改的选项。该选项是 --patch，可简写为 -p\n",
    "\n",
    "显示被修改的文件\n",
    "\n",
    "显示添加/删除的行所在的位置\n",
    "\n",
    "显示做出的实际更改"
   ]
  },
  {
   "cell_type": "markdown",
   "metadata": {},
   "source": [
    "### 4.2 git show 命令的作用\n",
    "\n",
    "仅显示最近的commit，将SHA 作为最后一个参数提供给命令\n",
    "\n",
    "git show 会显示：commit、作者、日期、commit消息、补丁信息"
   ]
  },
  {
   "cell_type": "markdown",
   "metadata": {},
   "source": [
    "# 五.向仓库中添加commit \n",
    "\n",
    "### git add #将文件从工作目录添加到暂存区中\n",
    "### git commit #将文件从暂存区中取出,并保存在仓库去。实际将要提交的地方\n",
    "### git diff #显示文件两个版本之间的差异"
   ]
  },
  {
   "cell_type": "markdown",
   "metadata": {},
   "source": [
    "### 5.1 git add 文件名 命令的作用\n",
    "\n",
    "ed: git add index.html  #使用 git add 将 index.html 添加到暂存区\n",
    "\n",
    "git add .  #句点指代当前目录,可以用来表示文件和目录(包括所有嵌套文件和目录)\n",
    "\n",
    "git add 命令适用于将文件从工作目录移到暂存区\n",
    "\n",
    "可接受多个文件名(用空格分隔)\n",
    "\n",
    "此外,可以使用句点. 来代替文件列表,告诉git添加当前目录至暂存区 (以及所有嵌套文件)\n",
    "\n"
   ]
  },
  {
   "cell_type": "markdown",
   "metadata": {},
   "source": [
    "### 5.2 git commit 命令的作用\n",
    "\n",
    "git commit -m 'lnitial commit' #使用-m选项绕过编译器,编写的提交说明简短.\n",
    "\n",
    "会取出暂存区的文件并保存到仓库中\n",
    "\n",
    "将打开配置中指定的代码编译器\n",
    "\n"
   ]
  },
  {
   "cell_type": "markdown",
   "metadata": {},
   "source": [
    "### 5.3 git diff 命令的作用\n",
    "\n",
    "查看已被加入但是尚未提交的更改\n",
    "\n",
    "此命令会显示:已经修改的文件、添加/删除的行所在的位置\n",
    "\n",
    "执行的实际更改"
   ]
  },
  {
   "cell_type": "markdown",
   "metadata": {},
   "source": [
    "### 5.4 .gitignore命令的作用\n",
    "\n",
    "用来告诉git不应跟踪的文件.该文件应该放在.git 目录所在的目录.\n"
   ]
  },
  {
   "cell_type": "markdown",
   "metadata": {},
   "source": [
    "# 六.标签、分支和合并\n",
    "\n",
    "### git tag #为特定提交添加标签,标签是提交的额外标记,可以指示有用信息\n",
    "\n",
    "### git branch #创建分支,用于并行开发项目的不同功能\n",
    "\n",
    "### git checkout #在不同的分支和标签之间进行切换\n",
    "\n",
    "### git merge #将不同分支上的更改自动合并在一起\n",
    "\n"
   ]
  },
  {
   "cell_type": "markdown",
   "metadata": {},
   "source": [
    "### 6.1 git tag 命令的作用\n",
    "\n",
    "git tag -a v1.0 中,使用了 -a选项.该选项告诉git创建一个带注释的标签\n",
    "\n",
    "git tag v1.0 将创建一个轻量级标签\n",
    "\n",
    "建议使用带注释的标签,包含了大量的额外信息: 标签创建者,标签创建日期,标签消息\n",
    "\n",
    "git tag -d v1.0 删除标签消息\n",
    "\n",
    "#### git tag -a v1.0 a87984 # 向以前的commit添加标签,只需要添加 SHA即可! "
   ]
  },
  {
   "cell_type": "markdown",
   "metadata": {},
   "source": [
    "### 6.2 git branch 命令的作用\n",
    "\n",
    "用来与git 的分支进行交互\n",
    "\n",
    "可以用来:列出仓库中的所有分支名称、创建新的分支、删除分支\n",
    "\n",
    "如果只输出 git branch,则git 将列出仓库中的分支\n",
    "\n",
    "创建分支,只需要使用git branch 并提供要创建的分支对应的名称.ed: git branch sidebar\n",
    "\n",
    "删除分支,可以使用 -d 选项.ed:git branch -d sidebar\n",
    "\n",
    "\n",
    "\n"
   ]
  },
  {
   "cell_type": "markdown",
   "metadata": {},
   "source": [
    "### 6.3 git checkout 命令的作用\n",
    "\n",
    "转到仓库,并提取分支指向的commit所对应的所有文件和目录\n",
    "\n",
    "从工作目录中删除git跟踪的所有文件和目录(git 跟踪的文件存储在仓库中,因此什么也不会丢失)"
   ]
  }
 ],
 "metadata": {
  "kernelspec": {
   "display_name": "Python 3",
   "language": "python",
   "name": "python3"
  },
  "language_info": {
   "codemirror_mode": {
    "name": "ipython",
    "version": 3
   },
   "file_extension": ".py",
   "mimetype": "text/x-python",
   "name": "python",
   "nbconvert_exporter": "python",
   "pygments_lexer": "ipython3",
   "version": "3.6.8"
  },
  "toc": {
   "base_numbering": 1,
   "nav_menu": {},
   "number_sections": true,
   "sideBar": true,
   "skip_h1_title": false,
   "title_cell": "Table of Contents",
   "title_sidebar": "Contents",
   "toc_cell": true,
   "toc_position": {
    "height": "calc(100% - 180px)",
    "left": "10px",
    "top": "150px",
    "width": "165px"
   },
   "toc_section_display": true,
   "toc_window_display": true
  }
 },
 "nbformat": 4,
 "nbformat_minor": 2
}
