{
 "cells": [
  {
   "cell_type": "code",
   "execution_count": 1,
   "metadata": {},
   "outputs": [
    {
     "name": "stdin",
     "output_type": "stream",
     "text": [
      "input rows: 2\n",
      "input columns: 3\n",
      "input numbers: 1\n",
      "input numbers: 2\n",
      "input numbers: 1\n",
      "input numbers: 3\n",
      "input numbers: 1\n",
      "input numbers: 5\n"
     ]
    },
    {
     "name": "stdout",
     "output_type": "stream",
     "text": [
      "[[1, 2, 1], [3, 1, 5]]\n"
     ]
    }
   ],
   "source": [
    "nums = []\n",
    "rows = eval(input('input rows:'))\n",
    "columns = eval(input('input columns:'))\n",
    "\n",
    "for row in range(rows):\n",
    "    nums.append([])\n",
    "    \n",
    "    for column in range(columns):\n",
    "        num = eval(input('input numbers:'))\n",
    "        nums[row].append(num)\n",
    "\n",
    "print(nums)\n",
    "\n",
    "\n",
    "\n",
    "\n",
    "\n",
    "\n",
    "\n"
   ]
  },
  {
   "cell_type": "markdown",
   "metadata": {},
   "source": [
    "## "
   ]
  }
 ],
 "metadata": {
  "kernelspec": {
   "display_name": "Python 3",
   "language": "python",
   "name": "python3"
  },
  "language_info": {
   "codemirror_mode": {
    "name": "ipython",
    "version": 3
   },
   "file_extension": ".py",
   "mimetype": "text/x-python",
   "name": "python",
   "nbconvert_exporter": "python",
   "pygments_lexer": "ipython3",
   "version": "3.6.8"
  }
 },
 "nbformat": 4,
 "nbformat_minor": 2
}
